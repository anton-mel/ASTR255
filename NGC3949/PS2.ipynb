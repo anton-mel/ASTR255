{
 "cells": [
  {
   "cell_type": "code",
   "execution_count": 794,
   "metadata": {},
   "outputs": [
    {
     "name": "stdout",
     "output_type": "stream",
     "text": [
      "178.4245416667 deg\n",
      "47.858 deg\n",
      "320.0 s\n",
      "\n",
      "\n"
     ]
    }
   ],
   "source": [
    "from astropy.io import fits\n",
    "import numpy as np\n",
    "import matplotlib.pyplot as plt\n",
    "import img_scale\n",
    "from astropy.visualization import LogStretch, ImageNormalize\n",
    "\n",
    "file1 = fits.open(\"./hst_09042_f0_wfpc2_f450w_wf_drz.fits\")\n",
    "file2 = fits.open(\"./hst_09042_f0_wfpc2_f606w_wf_drz.fits\")\n",
    "file3 = fits.open(\"./hst_09042_f0_wfpc2_f814w_wf_drz.fits\")\n",
    "\n",
    "# Check All Header Indexes\n",
    "# for key, value in file1[0].header.items():\n",
    "#     print(f'{key} = {value}')\n",
    "\n",
    "##################################\n",
    "# Problem 6: RA, Dec, and Exp Time\n",
    "print(file1[0].header['RA_TARG'], \"deg\")\n",
    "print(file1[0].header['DEC_TARG'], \"deg\")\n",
    "print(file1[0].header['EXPTIME'], \"s\")\n",
    "print(\"\\n\")\n"
   ]
  },
  {
   "cell_type": "code",
   "execution_count": 795,
   "metadata": {},
   "outputs": [
    {
     "name": "stdout",
     "output_type": "stream",
     "text": [
      "Mean Value: 0.027786141261458397\n",
      "Minimum Value: -164.8186798095703\n",
      "Maximum Value: 3838.68115234375\n",
      "\n",
      "\n",
      "img_scale : asinh\n"
     ]
    }
   ],
   "source": [
    "for hdu in file1:\n",
    "    if 'SCI' in hdu.header.get('EXTNAME', ''):\n",
    "        data = hdu.data\n",
    "\n",
    "        mean_value = np.mean(data)\n",
    "        min_value = np.min(data)\n",
    "        max_value = np.max(data)\n",
    "\n",
    "        ###########################\n",
    "        # Problem 7: Mean, Min, Max\n",
    "        print(f\"Mean Value: {mean_value}\")\n",
    "        print(f\"Minimum Value: {min_value}\")\n",
    "        print(f\"Maximum Value: {max_value}\")\n",
    "        print(\"\\n\")\n",
    "\n",
    "        ###########################\n",
    "        # Problem 8: Scale and Plot\n",
    "        scaled_data1 = img_scale.asinh(data)"
   ]
  },
  {
   "cell_type": "code",
   "execution_count": 796,
   "metadata": {},
   "outputs": [
    {
     "name": "stdout",
     "output_type": "stream",
     "text": [
      "Mean Value: 0.0873652771115303\n",
      "Minimum Value: -138.06459045410156\n",
      "Maximum Value: 3073.268798828125\n",
      "\n",
      "\n",
      "img_scale : asinh\n"
     ]
    }
   ],
   "source": [
    "for hdu in file2:\n",
    "    if 'SCI' in hdu.header.get('EXTNAME', ''):\n",
    "        data = hdu.data\n",
    "\n",
    "        mean_value = np.mean(data)\n",
    "        min_value = np.min(data)\n",
    "        max_value = np.max(data)\n",
    "\n",
    "        ###########################\n",
    "        # Problem 7: Mean, Min, Max\n",
    "        print(f\"Mean Value: {mean_value}\")\n",
    "        print(f\"Minimum Value: {min_value}\")\n",
    "        print(f\"Maximum Value: {max_value}\")\n",
    "        print(\"\\n\")\n",
    "\n",
    "        ###########################\n",
    "        # Problem 8: Scale and Plot\n",
    "        scaled_data2 = img_scale.asinh(data)\n"
   ]
  },
  {
   "cell_type": "code",
   "execution_count": 797,
   "metadata": {},
   "outputs": [
    {
     "name": "stdout",
     "output_type": "stream",
     "text": [
      "Mean Value: 0.05020489543676376\n",
      "Minimum Value: -68.5311508178711\n",
      "Maximum Value: 2258.680908203125\n",
      "\n",
      "\n",
      "img_scale : asinh\n"
     ]
    }
   ],
   "source": [
    "for hdu in file3:\n",
    "    if 'SCI' in hdu.header.get('EXTNAME', ''):\n",
    "        data = hdu.data\n",
    "\n",
    "        mean_value = np.mean(data)\n",
    "        min_value = np.min(data)\n",
    "        max_value = np.max(data)\n",
    "\n",
    "        ###########################\n",
    "        # Problem 7: Mean, Min, Max\n",
    "        print(f\"Mean Value: {mean_value}\")\n",
    "        print(f\"Minimum Value: {min_value}\")\n",
    "        print(f\"Maximum Value: {max_value}\")\n",
    "        print(\"\\n\")\n",
    "\n",
    "        ###########################\n",
    "        # Problem 8: Scale and Plot\n",
    "        scaled_data3 = img_scale.asinh(data)"
   ]
  },
  {
   "cell_type": "code",
   "execution_count": 798,
   "metadata": {},
   "outputs": [
    {
     "data": {
      "image/png": "[encoded data removed]",
      "text/plain": [
       "<Figure size 640x480 with 1 Axes>"
      ]
     },
     "metadata": {},
     "output_type": "display_data"
    }
   ],
   "source": [
    "####################################\n",
    "# Problem 9: Combine the Color Image\n",
    "color_image = np.zeros((scaled_data1.shape[0], scaled_data1.shape[1], 3), dtype=float)\n",
    "color_image[:, :, 0] = scaled_data1 # red\n",
    "color_image[:, :, 1] = scaled_data2 # green\n",
    "color_image[:, :, 2] = scaled_data3 # blue\n",
    "\n",
    "###########################\n",
    "# Problem 10: Algo Adaption\n",
    "maxRGB = np.max(color_image)\n",
    "if maxRGB > 1:\n",
    "    color_image /= maxRGB\n",
    "\n",
    "#########################\n",
    "# Display the Color Image\n",
    "plt.imshow(color_image)\n",
    "plt.style.use('dark_background')\n",
    "plt.xlim(500, 1650)\n",
    "plt.ylim(600, 1800)\n",
    "plt.show()\n",
    "\n",
    "\n",
    "file1.close()\n",
    "file2.close()\n",
    "file3.close()"
   ]
  }
 ],
 "metadata": {
  "kernelspec": {
   "display_name": "Python 3",
   "language": "python",
   "name": "python3"
  },
  "language_info": {
   "codemirror_mode": {
    "name": "ipython",
    "version": 3
   },
   "file_extension": ".py",
   "mimetype": "text/x-python",
   "name": "python",
   "nbconvert_exporter": "python",
   "pygments_lexer": "ipython3",
   "version": "3.11.3"
  },
  "orig_nbformat": 4
 },
 "nbformat": 4,
 "nbformat_minor": 2
}
